{
 "cells": [
  {
   "cell_type": "code",
   "outputs": [],
   "source": [],
   "metadata": {
    "collapsed": false,
    "ExecuteTime": {
     "end_time": "2024-03-04T09:32:57.768423Z",
     "start_time": "2024-03-04T09:32:57.766122Z"
    }
   },
   "id": "ffcbc721cc6514a2",
   "execution_count": 23
  },
  {
   "metadata": {
    "jupyter": {
     "is_executing": true
    }
   },
   "cell_type": "code",
   "source": [
    "from matplotlib import pyplot as plt\n",
    "from math import pi, cos, sin\n",
    "\n",
    "PI = pi\n",
    "\n",
    "CNT = 1024\n",
    "\n",
    "X = [PI * ((2 * x / CNT) - 1) for x in range(CNT)]\n",
    "C = [cos(x) for x in X]\n",
    "S = [sin(x) for x in X]\n",
    "\n",
    "#plt.plot(X, C)\n",
    "#plt.plot(X, S)\n",
    "\n",
    "plt.figure(figsize=(10,6), dpi=80)\n",
    "plt.plot(X, C, color=\"blue\", linewidth=2.5, linestyle=\"-\", label=\"cosine\")\n",
    "plt.plot(X, S, color=\"red\", linewidth=2.5, linestyle=\"-\", label=\"sine\")\n",
    "\n",
    "plt.xlim(min(X)*1.1, max(X)*1.1)\n",
    "plt.ylim(min(C)*1.1, max(C)*1.1)\n",
    "\n",
    "plt.xticks([-PI, -PI/2, 0, PI/2, PI], [r'$-\\pi$', r'$-\\pi/2$', r'$0$', r'$+\\pi/2$', r'$+\\pi$'])\n",
    "plt.yticks([-1, 0, 1], [r'$-1$', r'$0$', r'$+1$'])\n",
    "\n",
    "plt.legend(loc=\"upper left\", frameon=False)\n",
    "\n",
    "ax = plt.gca()\n",
    "ax.spines['right'].set_color('none')\n",
    "ax.spines['top'].set_color('none')\n",
    "ax.spines['bottom'].set_position(('data',0))\n",
    "ax.spines['left'].set_position(('data',0))\n",
    "\n",
    "t = 2*PI/3\n",
    "plt.plot([t,t],[0,cos(t)], color ='blue', linewidth=2.5, linestyle=\"--\")\n",
    "plt.scatter([t,],[cos(t),], 50, color ='blue')\n",
    "plt.annotate(r'$\\sin(\\frac{2\\pi}{3})=\\frac{\\sqrt{3}}{2}$',\n",
    "xy=(t, sin(t)), xycoords='data',\n",
    "xytext=(+10, +30), textcoords='offset points', fontsize=16,\n",
    "arrowprops=dict(arrowstyle=\"->\", connectionstyle=\"arc3,rad=.2\"))\n",
    "plt.plot([t,t],[0,sin(t)], color ='red', linewidth=2.5, linestyle=\"--\")\n",
    "plt.scatter([t,],[sin(t),], 50, color ='red')\n",
    "plt.annotate(r'$\\cos(\\frac{2\\pi}{3})=-\\frac{1}{2}$',\n",
    "xy=(t, cos(t)), xycoords='data',\n",
    "xytext=(-90, -50), textcoords='offset points', fontsize=16,\n",
    "arrowprops=dict(arrowstyle=\"->\", connectionstyle=\"arc3,rad=.2\"))\n",
    "\n",
    "# Schönheit: bessere Sichtbarkeit für die Ticks\n",
    "for label in ax.get_xticklabels() + ax.get_yticklabels():\n",
    "    label.set_fontsize(16)\n",
    "    label.set_bbox(dict(facecolor='white', edgecolor='None', alpha=0.65))\n",
    "\n",
    "plt.savefig(\"plot1_kniely.png\", dpi=80)\n",
    "plt.show()"
   ],
   "id": "6a87814d92ca916",
   "outputs": [],
   "execution_count": null
  },
  {
   "metadata": {},
   "cell_type": "code",
   "outputs": [],
   "execution_count": null,
   "source": "",
   "id": "542034a4ad7bdabb"
  }
 ],
 "metadata": {
  "kernelspec": {
   "display_name": "Python 3",
   "language": "python",
   "name": "python3"
  },
  "language_info": {
   "codemirror_mode": {
    "name": "ipython",
    "version": 3
   },
   "file_extension": ".py",
   "mimetype": "text/x-python",
   "name": "python",
   "nbconvert_exporter": "python",
   "pygments_lexer": "ipython3",
   "version": "3.10.12"
  }
 },
 "nbformat": 4,
 "nbformat_minor": 5
}
